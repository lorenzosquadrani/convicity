{
 "cells": [
  {
   "cell_type": "code",
   "execution_count": 5,
   "id": "405ead64",
   "metadata": {},
   "outputs": [],
   "source": [
    "from cBCM import cBCM\n",
    "from plasticity.model.optimizer import SGD\n",
    "from plasticity.model.weights import Normal\n",
    "from plasticity.utils import view_weights\n",
    "import numpy as np"
   ]
  },
  {
   "cell_type": "code",
   "execution_count": 2,
   "id": "1bef21c2",
   "metadata": {},
   "outputs": [],
   "source": [
    "import pylab as plt\n",
    "from sklearn.datasets import fetch_openml"
   ]
  },
  {
   "cell_type": "code",
   "execution_count": 3,
   "id": "bcb986fd",
   "metadata": {},
   "outputs": [],
   "source": [
    "#Download the MNIST dataset\n",
    "X, y = fetch_openml(name='mnist_784', version=1, data_id=None, return_X_y=True)\n",
    "\n",
    "# normalize the sample into [0, 1]\n",
    "X *= 1. / 255"
   ]
  },
  {
   "cell_type": "code",
   "execution_count": 4,
   "id": "dddb3976",
   "metadata": {},
   "outputs": [
    {
     "ename": "NameError",
     "evalue": "name 'np' is not defined",
     "output_type": "error",
     "traceback": [
      "\u001b[0;31m---------------------------------------------------------------------------\u001b[0m",
      "\u001b[0;31mNameError\u001b[0m                                 Traceback (most recent call last)",
      "\u001b[0;32m<ipython-input-4-58acc2ae2de2>\u001b[0m in \u001b[0;36m<module>\u001b[0;34m\u001b[0m\n\u001b[1;32m      4\u001b[0m \t\t\t\trandom_state = 42, verbose = True)\n\u001b[1;32m      5\u001b[0m \u001b[0;34m\u001b[0m\u001b[0m\n\u001b[0;32m----> 6\u001b[0;31m \u001b[0mmodel\u001b[0m\u001b[0;34m.\u001b[0m\u001b[0mfit\u001b[0m\u001b[0;34m(\u001b[0m\u001b[0mnp\u001b[0m\u001b[0;34m.\u001b[0m\u001b[0marray\u001b[0m\u001b[0;34m(\u001b[0m\u001b[0mX\u001b[0m\u001b[0;34m[\u001b[0m\u001b[0;34m:\u001b[0m\u001b[0;36m20000\u001b[0m\u001b[0;34m]\u001b[0m\u001b[0;34m)\u001b[0m\u001b[0;34m.\u001b[0m\u001b[0mreshape\u001b[0m\u001b[0;34m(\u001b[0m\u001b[0;34m-\u001b[0m\u001b[0;36m1\u001b[0m\u001b[0;34m,\u001b[0m\u001b[0;36m28\u001b[0m\u001b[0;34m,\u001b[0m\u001b[0;36m28\u001b[0m\u001b[0;34m)\u001b[0m\u001b[0;34m)\u001b[0m\u001b[0;34m\u001b[0m\u001b[0;34m\u001b[0m\u001b[0m\n\u001b[0m\u001b[1;32m      7\u001b[0m \u001b[0mprint\u001b[0m\u001b[0;34m(\u001b[0m\u001b[0;34m\"OH YES I CANT BELIEVE IT\"\u001b[0m\u001b[0;34m)\u001b[0m\u001b[0;34m\u001b[0m\u001b[0;34m\u001b[0m\u001b[0m\n",
      "\u001b[0;31mNameError\u001b[0m: name 'np' is not defined"
     ]
    }
   ],
   "source": [
    "model = cBCM(\tn_filters = 8, kernel_size = 5,\n",
    "\t\t\t\tnum_epochs= 10, batch_size = 1000, activation = 'relu',\n",
    "\t\t\t\toptimizer = SGD(lr=4e-2), weights_init = Normal(), interaction_strength = 0.,\n",
    "\t\t\t\trandom_state = 42, verbose = True)\n",
    "\n",
    "model.fit(np.array(X[:20000]).reshape(-1,28,28))\n",
    "print(\"OH YES I CANT BELIEVE IT\")"
   ]
  }
 ],
 "metadata": {
  "kernelspec": {
   "display_name": "Python 3",
   "language": "python",
   "name": "python3"
  },
  "language_info": {
   "codemirror_mode": {
    "name": "ipython",
    "version": 3
   },
   "file_extension": ".py",
   "mimetype": "text/x-python",
   "name": "python",
   "nbconvert_exporter": "python",
   "pygments_lexer": "ipython3",
   "version": "3.8.5"
  }
 },
 "nbformat": 4,
 "nbformat_minor": 5
}
