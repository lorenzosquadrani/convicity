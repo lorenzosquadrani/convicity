{
  "nbformat": 4,
  "nbformat_minor": 0,
  "metadata": {
    "colab": {
      "name": "try_convicity.ipynb",
      "provenance": [],
      "toc_visible": true,
      "authorship_tag": "ABX9TyOm6xX2zgCkxoty3g6zI+ln",
      "include_colab_link": true
    },
    "kernelspec": {
      "name": "python3",
      "display_name": "Python 3"
    },
    "language_info": {
      "name": "python"
    },
    "accelerator": "GPU"
  },
  "cells": [
    {
      "cell_type": "markdown",
      "metadata": {
        "id": "view-in-github",
        "colab_type": "text"
      },
      "source": [
        "<a href=\"https://colab.research.google.com/github/lorenzosquadrani/convicity/blob/main/try_convicity.ipynb\" target=\"_parent\"><img src=\"https://colab.research.google.com/assets/colab-badge.svg\" alt=\"Open In Colab\"/></a>"
      ]
    },
    {
      "cell_type": "markdown",
      "metadata": {
        "id": "LAJA3GzqR4zT"
      },
      "source": [
        "#Libraries"
      ]
    },
    {
      "cell_type": "code",
      "metadata": {
        "colab": {
          "base_uri": "https://localhost:8080/"
        },
        "id": "KZyDM04jP5ww",
        "outputId": "5528154a-b07c-4326-9d4c-ce9ce1f6e04e"
      },
      "source": [
        "!git clone https://github.com/lorenzosquadrani/convicity.git\n",
        "!git clone https://github.com/lorenzosquadrani/plasticity.git\n",
        "!mv /content/plasticity/plasticity/__version__.py.in /content/plasticity/plasticity/__version__.py"
      ],
      "execution_count": 1,
      "outputs": [
        {
          "output_type": "stream",
          "text": [
            "Cloning into 'convicity'...\n",
            "remote: Enumerating objects: 80, done.\u001b[K\n",
            "remote: Counting objects: 100% (80/80), done.\u001b[K\n",
            "remote: Compressing objects: 100% (62/62), done.\u001b[K\n",
            "remote: Total 80 (delta 28), reused 56 (delta 14), pack-reused 0\u001b[K\n",
            "Unpacking objects: 100% (80/80), done.\n",
            "Cloning into 'plasticity'...\n",
            "remote: Enumerating objects: 1430, done.\u001b[K\n",
            "remote: Counting objects: 100% (573/573), done.\u001b[K\n",
            "remote: Compressing objects: 100% (369/369), done.\u001b[K\n",
            "remote: Total 1430 (delta 366), reused 376 (delta 202), pack-reused 857\u001b[K\n",
            "Receiving objects: 100% (1430/1430), 59.47 MiB | 23.29 MiB/s, done.\n",
            "Resolving deltas: 100% (911/911), done.\n"
          ],
          "name": "stdout"
        }
      ]
    },
    {
      "cell_type": "code",
      "metadata": {
        "colab": {
          "base_uri": "https://localhost:8080/"
        },
        "id": "Qoqrag9KRoMl",
        "outputId": "66a6326c-5f06-435b-9533-1898c51fc408"
      },
      "source": [
        "cd plasticity/"
      ],
      "execution_count": 2,
      "outputs": [
        {
          "output_type": "stream",
          "text": [
            "/content/plasticity\n"
          ],
          "name": "stdout"
        }
      ]
    },
    {
      "cell_type": "code",
      "metadata": {
        "id": "kNfUIIteRqBx"
      },
      "source": [
        "from convicity.cBCM.cBCM import cBCM\n",
        "\n",
        "from plasticity.model.optimizer import SGD\n",
        "from plasticity.model.weights import Normal\n",
        "from convicity.cBCM.utils import view_weights\n",
        "\n",
        "import torch\n",
        "import torch.nn as nn\n",
        "import torch.nn.functional as F\n",
        "import torch.optim as optim\n",
        "\n",
        "from torchvision import datasets, transforms\n",
        "\n",
        "import numpy as np\n",
        "import matplotlib.pyplot as plt\n"
      ],
      "execution_count": 3,
      "outputs": []
    },
    {
      "cell_type": "markdown",
      "metadata": {
        "id": "jXxa3UFVR98I"
      },
      "source": [
        "#Load the Dataset"
      ]
    },
    {
      "cell_type": "code",
      "metadata": {
        "id": "IPeG4OZpz6nh"
      },
      "source": [
        "#load the data\n",
        "trainset = datasets.MNIST('/content/convicity/', train=True, download=True,\n",
        "                   transform=transforms.Compose([\n",
        "                       transforms.ToTensor(),\n",
        "                       transforms.Normalize((0.1307,), (0.3081,))\n",
        "                   ]))\n",
        "\n",
        "\n",
        "testset  =  datasets.MNIST('/content/convicity/', train=False, transform=transforms.Compose([\n",
        "                       transforms.ToTensor(),\n",
        "                       transforms.Normalize((0.1307,), (0.3081,))\n",
        "                   ]))\n",
        "\n",
        "train_loader = torch.utils.data.DataLoader(trainset, batch_size=1000, shuffle=True)\n",
        "test_loader = torch.utils.data.DataLoader(testset, batch_size=1000, shuffle=True)"
      ],
      "execution_count": 4,
      "outputs": []
    },
    {
      "cell_type": "markdown",
      "metadata": {
        "id": "LaEmJPbQSFly"
      },
      "source": [
        "# Model"
      ]
    },
    {
      "cell_type": "code",
      "metadata": {
        "id": "jbXTtVlYSC52"
      },
      "source": [
        "class LittleNet(nn.Module):\n",
        "    def __init__(self):\n",
        "        super(LittleNet, self).__init__()\n",
        "        self.flatten = nn.Flatten()\n",
        "        self.conv_relu_stack = nn.Sequential(\n",
        "            nn.Conv2d(in_channels=1, out_channels=8, kernel_size=5, stride=1, padding=0),\n",
        "            nn.ReLU()\n",
        "        )\n",
        "        self.linear_relu_stack = nn.Sequential(\n",
        "            nn.Linear(8*24*24, 512),\n",
        "            nn.ReLU(),\n",
        "            nn.Linear(512, 10)\n",
        "        )\n",
        "\n",
        "    def forward(self, x):\n",
        "        x = self.conv_relu_stack(x)\n",
        "        x = self.flatten(x)\n",
        "        x = self.linear_relu_stack(x)\n",
        "        return x"
      ],
      "execution_count": 5,
      "outputs": []
    },
    {
      "cell_type": "markdown",
      "metadata": {
        "id": "VS8Yl3_YS2ek"
      },
      "source": [
        "#Training"
      ]
    },
    {
      "cell_type": "code",
      "metadata": {
        "id": "5IJbNiKVzvfY"
      },
      "source": [
        "device = 'cuda' if torch.cuda.is_available() else 'cpu'\n",
        "print('Using {} device'.format(device))"
      ],
      "execution_count": null,
      "outputs": []
    },
    {
      "cell_type": "code",
      "metadata": {
        "id": "7Hb_X8M0z1bT"
      },
      "source": [
        "def train(model, device, trainloader, optimizer, loss_function):\n",
        "    model.train()\n",
        "    for data, target in trainloader:\n",
        "        data, target = data.to(device), target.to(device)\n",
        "        optimizer.zero_grad()\n",
        "        output = model(data)\n",
        "        loss = loss_function(output, target)\n",
        "        loss.backward()\n",
        "        optimizer.step()\n",
        "    \n",
        "\n",
        "def test(model, device, testloader, loss_function):\n",
        "    model.eval()\n",
        "    test_loss = 0\n",
        "    correct = 0\n",
        "    with torch.no_grad():\n",
        "        for data, target in testloader:\n",
        "            data, target = data.to(device), target.to(device)\n",
        "            output = model(data)\n",
        "            test_loss += loss_function(output, target).item()  # sum up batch loss\n",
        "            pred = output.argmax(dim=1, keepdim=True)  # get the index of the max log-probability\n",
        "            correct += pred.eq(target.view_as(pred)).sum().item()\n",
        "\n",
        "    test_loss /= len(test_loader.dataset)\n",
        "    accuracy = 100. * correct / len(test_loader.dataset)\n",
        "\n",
        "    return test_loss, accuracy"
      ],
      "execution_count": null,
      "outputs": []
    },
    {
      "cell_type": "code",
      "metadata": {
        "id": "vVTd7JmW0AeL"
      },
      "source": [
        "np.random.seed(0)\n",
        "torch.manual_seed(0)"
      ],
      "execution_count": null,
      "outputs": []
    },
    {
      "cell_type": "markdown",
      "metadata": {
        "id": "dm8hn0kdVUvc"
      },
      "source": [
        "## Training with cBCM for the first convolutional layer"
      ]
    },
    {
      "cell_type": "code",
      "metadata": {
        "id": "akMozCxxKVo0"
      },
      "source": [
        "X = np.array(trainset.data, dtype = 'float16')/255."
      ],
      "execution_count": 63,
      "outputs": []
    },
    {
      "cell_type": "code",
      "metadata": {
        "id": "mZV8kA9CVS6G"
      },
      "source": [
        "model = cBCM(\tn_filters = 8, kernel_size = 5,\n",
        "\t\t\t\tnum_epochs=5, batch_size = 100, activation = 'relu',\n",
        "\t\t\t\toptimizer = SGD(lr=4e-2), weights_init = Normal(), interaction_strength = -0.,\n",
        "\t\t\t\trandom_state = 42, verbose = True)\n",
        "\n",
        "model.fit(X[:1000])"
      ],
      "execution_count": null,
      "outputs": []
    },
    {
      "cell_type": "code",
      "metadata": {
        "id": "KY4dorF5XpnK",
        "outputId": "646a0c78-a4c9-4b15-fa8c-1e9b9daf22ea",
        "colab": {
          "base_uri": "https://localhost:8080/",
          "height": 317
        }
      },
      "source": [
        "view_weights(model, rows = 2, cols = 4)"
      ],
      "execution_count": 65,
      "outputs": [
        {
          "output_type": "display_data",
          "data": {
            "image/png": "[encoded data removed]",
            "text/plain": [
              "<Figure size 720x360 with 8 Axes>"
            ]
          },
          "metadata": {
            "tags": [],
            "needs_background": "light"
          }
        }
      ]
    },
    {
      "cell_type": "code",
      "metadata": {
        "id": "2JyAsWgu2IY7"
      },
      "source": [
        "model = LittleNet().to(device)\n",
        "optimizer = optim.SGD(model.parameters(), lr= lr)\n",
        "loss_function = nn.CrossEntropyLoss()"
      ],
      "execution_count": null,
      "outputs": []
    },
    {
      "cell_type": "code",
      "metadata": {
        "id": "iwgD-soM0L00"
      },
      "source": [
        "# ASSIGNING VALUES IN THE MODEL\n",
        "\n",
        "with torch.no_grad():\n",
        "    model.conv_relu_stack[0].weight.data = torch.tensor(model.weights.reshape(8,1,5,5), device = 'cuda')\n",
        "    \n",
        "    torch.zeros((8,1,5,5), device = 'cuda')"
      ],
      "execution_count": null,
      "outputs": []
    },
    {
      "cell_type": "markdown",
      "metadata": {
        "id": "e4Jm_8jZWNPM"
      },
      "source": [
        "##Training without cBCM"
      ]
    },
    {
      "cell_type": "code",
      "metadata": {
        "id": "kA-NQxLlnk7P"
      },
      "source": [
        "lr = 1e-3\n",
        "num_epochs = 20"
      ],
      "execution_count": 20,
      "outputs": []
    },
    {
      "cell_type": "code",
      "metadata": {
        "id": "KsWRnoJ-neqL"
      },
      "source": [
        "model = LittleNet().to(device)\n",
        "optimizer = optim.SGD(model.parameters(), lr= lr)\n",
        "loss_function = nn.CrossEntropyLoss()"
      ],
      "execution_count": 32,
      "outputs": []
    },
    {
      "cell_type": "code",
      "metadata": {
        "id": "6eQNislSrT16",
        "outputId": "42b5cd73-a6ff-43e3-bb44-0a36a499eb85",
        "colab": {
          "base_uri": "https://localhost:8080/"
        }
      },
      "source": [
        "for epoch in range(num_epochs):\n",
        "    print(\"Epoch %d/ %d\" %(epoch,num_epochs ))\n",
        "    train(model, device, train_loader, optimizer, loss_function)\n",
        "    x, y = test(model, device, test_loader, loss_function)\n",
        "    print(\"Test Loss and Accuracy: %f, %d %%\" %(x,y))"
      ],
      "execution_count": 33,
      "outputs": [
        {
          "output_type": "stream",
          "text": [
            "Epoch 0/ 20\n",
            "Test Loss and Accuracy: 0.002118, 56 %\n",
            "Epoch 1/ 20\n",
            "Test Loss and Accuracy: 0.001911, 70 %\n",
            "Epoch 2/ 20\n",
            "Test Loss and Accuracy: 0.001676, 74 %\n",
            "Epoch 3/ 20\n",
            "Test Loss and Accuracy: 0.001429, 77 %\n",
            "Epoch 4/ 20\n",
            "Test Loss and Accuracy: 0.001199, 79 %\n",
            "Epoch 5/ 20\n",
            "Test Loss and Accuracy: 0.001011, 82 %\n",
            "Epoch 6/ 20\n",
            "Test Loss and Accuracy: 0.000868, 83 %\n",
            "Epoch 7/ 20\n",
            "Test Loss and Accuracy: 0.000763, 84 %\n",
            "Epoch 8/ 20\n",
            "Test Loss and Accuracy: 0.000685, 85 %\n",
            "Epoch 9/ 20\n",
            "Test Loss and Accuracy: 0.000627, 86 %\n",
            "Epoch 10/ 20\n",
            "Test Loss and Accuracy: 0.000582, 86 %\n",
            "Epoch 11/ 20\n",
            "Test Loss and Accuracy: 0.000547, 87 %\n",
            "Epoch 12/ 20\n",
            "Test Loss and Accuracy: 0.000518, 87 %\n",
            "Epoch 13/ 20\n",
            "Test Loss and Accuracy: 0.000495, 87 %\n",
            "Epoch 14/ 20\n",
            "Test Loss and Accuracy: 0.000475, 87 %\n",
            "Epoch 15/ 20\n",
            "Test Loss and Accuracy: 0.000459, 88 %\n",
            "Epoch 16/ 20\n",
            "Test Loss and Accuracy: 0.000445, 88 %\n",
            "Epoch 17/ 20\n",
            "Test Loss and Accuracy: 0.000432, 88 %\n",
            "Epoch 18/ 20\n",
            "Test Loss and Accuracy: 0.000422, 88 %\n",
            "Epoch 19/ 20\n",
            "Test Loss and Accuracy: 0.000412, 88 %\n"
          ],
          "name": "stdout"
        }
      ]
    }
  ]
}